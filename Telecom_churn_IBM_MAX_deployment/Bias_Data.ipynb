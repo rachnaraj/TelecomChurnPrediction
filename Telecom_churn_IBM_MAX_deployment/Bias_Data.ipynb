{
  "nbformat": 4,
  "nbformat_minor": 0,
  "metadata": {
    "colab": {
      "name": "Bias_Data.ipynb",
      "provenance": [],
      "collapsed_sections": [
        "Hqnwbqx6GZT2",
        "5kPzZT6EGZT2",
        "Pf-glgdCGZT3",
        "O-DQ8FscGZT4",
        "Uf2_KEidGZT6",
        "K5GryBR9GZT7",
        "ruW27VNNGZT8",
        "UGaqbwN1GZT9",
        "vJP_ye_PGZT-"
      ]
    },
    "kernelspec": {
      "display_name": "Python 3",
      "language": "python",
      "name": "python3"
    },
    "language_info": {
      "codemirror_mode": {
        "name": "ipython",
        "version": 3
      },
      "file_extension": ".py",
      "mimetype": "text/x-python",
      "name": "python",
      "nbconvert_exporter": "python",
      "pygments_lexer": "ipython3",
      "version": "3.8.5"
    }
  },
  "cells": [
    {
      "cell_type": "markdown",
      "metadata": {
        "id": "w2BFve0LGZTt"
      },
      "source": [
        "# Telecom Data - Predict Customer Churn\n",
        "\n",
        "### How many customers stop using the product?\n",
        "\n",
        "Dataset Link - https://www.kaggle.com/radmirzosimov/telecom-users-dataset"
      ]
    },
    {
      "cell_type": "markdown",
      "metadata": {
        "id": "JL1B0Ae2GZTv"
      },
      "source": [
        "# Process\n",
        "\n",
        "![img](https://github.com/SSaishruthi/Guvi_AI_For_India/blob/main/steps.png?raw=1)"
      ]
    },
    {
      "cell_type": "markdown",
      "metadata": {
        "id": "RRRQQnknZT37"
      },
      "source": [
        "##### The AI Fairness 360 toolkit (AIF360) is an open source software toolkit that can help detect and remove bias in machine learning models. It enables developers to use state-of-the-art algorithms to regularly check for unwanted biases from entering their machine learning pipeline and to mitigate any biases that are discovered.\n",
        "\n",
        "[AIF360](https://developer.ibm.com/technologies/artificial-intelligence/projects/ai-fairness-360/)"
      ]
    },
    {
      "cell_type": "code",
      "metadata": {
        "colab": {
          "base_uri": "https://localhost:8080/"
        },
        "id": "vDc80WrBig83",
        "outputId": "97421f4a-94b4-4ecb-9298-72919d39330c"
      },
      "source": [
        "!pip install aif360"
      ],
      "execution_count": 1,
      "outputs": [
        {
          "output_type": "stream",
          "text": [
            "Collecting aif360\n",
            "\u001b[?25l  Downloading https://files.pythonhosted.org/packages/4c/71/0e19eaf2c513b2328b2b6188770bf1692437380c6e7a1eec3320354e4c87/aif360-0.4.0-py3-none-any.whl (175kB)\n",
            "\r\u001b[K     |█▉                              | 10kB 12.4MB/s eta 0:00:01\r\u001b[K     |███▊                            | 20kB 17.5MB/s eta 0:00:01\r\u001b[K     |█████▋                          | 30kB 13.1MB/s eta 0:00:01\r\u001b[K     |███████▌                        | 40kB 10.2MB/s eta 0:00:01\r\u001b[K     |█████████▍                      | 51kB 9.9MB/s eta 0:00:01\r\u001b[K     |███████████▎                    | 61kB 8.7MB/s eta 0:00:01\r\u001b[K     |█████████████                   | 71kB 9.5MB/s eta 0:00:01\r\u001b[K     |███████████████                 | 81kB 9.5MB/s eta 0:00:01\r\u001b[K     |████████████████▉               | 92kB 9.9MB/s eta 0:00:01\r\u001b[K     |██████████████████▊             | 102kB 8.9MB/s eta 0:00:01\r\u001b[K     |████████████████████▋           | 112kB 8.9MB/s eta 0:00:01\r\u001b[K     |██████████████████████▌         | 122kB 8.9MB/s eta 0:00:01\r\u001b[K     |████████████████████████▎       | 133kB 8.9MB/s eta 0:00:01\r\u001b[K     |██████████████████████████▏     | 143kB 8.9MB/s eta 0:00:01\r\u001b[K     |████████████████████████████    | 153kB 8.9MB/s eta 0:00:01\r\u001b[K     |██████████████████████████████  | 163kB 8.9MB/s eta 0:00:01\r\u001b[K     |███████████████████████████████▉| 174kB 8.9MB/s eta 0:00:01\r\u001b[K     |████████████████████████████████| 184kB 8.9MB/s \n",
            "\u001b[?25hRequirement already satisfied: matplotlib in /usr/local/lib/python3.7/dist-packages (from aif360) (3.2.2)\n",
            "Requirement already satisfied: pandas>=0.24.0 in /usr/local/lib/python3.7/dist-packages (from aif360) (1.1.5)\n",
            "Requirement already satisfied: numpy>=1.16 in /usr/local/lib/python3.7/dist-packages (from aif360) (1.19.5)\n",
            "Requirement already satisfied: scikit-learn>=0.22.1 in /usr/local/lib/python3.7/dist-packages (from aif360) (0.22.2.post1)\n",
            "Requirement already satisfied: scipy<1.6.0,>=1.2.0 in /usr/local/lib/python3.7/dist-packages (from aif360) (1.4.1)\n",
            "Collecting tempeh\n",
            "  Downloading https://files.pythonhosted.org/packages/b7/1b/d016f8d2ac250b7df50ffb630c3f71371d35ac92deb80653b0e4d2f9c1a9/tempeh-0.1.12-py3-none-any.whl\n",
            "Requirement already satisfied: cycler>=0.10 in /usr/local/lib/python3.7/dist-packages (from matplotlib->aif360) (0.10.0)\n",
            "Requirement already satisfied: kiwisolver>=1.0.1 in /usr/local/lib/python3.7/dist-packages (from matplotlib->aif360) (1.3.1)\n",
            "Requirement already satisfied: pyparsing!=2.0.4,!=2.1.2,!=2.1.6,>=2.0.1 in /usr/local/lib/python3.7/dist-packages (from matplotlib->aif360) (2.4.7)\n",
            "Requirement already satisfied: python-dateutil>=2.1 in /usr/local/lib/python3.7/dist-packages (from matplotlib->aif360) (2.8.1)\n",
            "Requirement already satisfied: pytz>=2017.2 in /usr/local/lib/python3.7/dist-packages (from pandas>=0.24.0->aif360) (2018.9)\n",
            "Requirement already satisfied: joblib>=0.11 in /usr/local/lib/python3.7/dist-packages (from scikit-learn>=0.22.1->aif360) (1.0.1)\n",
            "Collecting memory-profiler\n",
            "  Downloading https://files.pythonhosted.org/packages/8f/fd/d92b3295657f8837e0177e7b48b32d6651436f0293af42b76d134c3bb489/memory_profiler-0.58.0.tar.gz\n",
            "Requirement already satisfied: requests in /usr/local/lib/python3.7/dist-packages (from tempeh->aif360) (2.23.0)\n",
            "Collecting shap\n",
            "\u001b[?25l  Downloading https://files.pythonhosted.org/packages/b9/f4/c5b95cddae15be80f8e58b25edceca105aa83c0b8c86a1edad24a6af80d3/shap-0.39.0.tar.gz (356kB)\n",
            "\u001b[K     |████████████████████████████████| 358kB 12.9MB/s \n",
            "\u001b[?25hRequirement already satisfied: pytest in /usr/local/lib/python3.7/dist-packages (from tempeh->aif360) (3.6.4)\n",
            "Requirement already satisfied: six in /usr/local/lib/python3.7/dist-packages (from cycler>=0.10->matplotlib->aif360) (1.15.0)\n",
            "Requirement already satisfied: psutil in /usr/local/lib/python3.7/dist-packages (from memory-profiler->tempeh->aif360) (5.4.8)\n",
            "Requirement already satisfied: urllib3!=1.25.0,!=1.25.1,<1.26,>=1.21.1 in /usr/local/lib/python3.7/dist-packages (from requests->tempeh->aif360) (1.24.3)\n",
            "Requirement already satisfied: idna<3,>=2.5 in /usr/local/lib/python3.7/dist-packages (from requests->tempeh->aif360) (2.10)\n",
            "Requirement already satisfied: chardet<4,>=3.0.2 in /usr/local/lib/python3.7/dist-packages (from requests->tempeh->aif360) (3.0.4)\n",
            "Requirement already satisfied: certifi>=2017.4.17 in /usr/local/lib/python3.7/dist-packages (from requests->tempeh->aif360) (2021.5.30)\n",
            "Requirement already satisfied: tqdm>4.25.0 in /usr/local/lib/python3.7/dist-packages (from shap->tempeh->aif360) (4.41.1)\n",
            "Collecting slicer==0.0.7\n",
            "  Downloading https://files.pythonhosted.org/packages/78/c2/b3f55dfdb8af9812fdb9baf70cacf3b9e82e505b2bd4324d588888b81202/slicer-0.0.7-py3-none-any.whl\n",
            "Requirement already satisfied: numba in /usr/local/lib/python3.7/dist-packages (from shap->tempeh->aif360) (0.51.2)\n",
            "Requirement already satisfied: cloudpickle in /usr/local/lib/python3.7/dist-packages (from shap->tempeh->aif360) (1.3.0)\n",
            "Requirement already satisfied: more-itertools>=4.0.0 in /usr/local/lib/python3.7/dist-packages (from pytest->tempeh->aif360) (8.8.0)\n",
            "Requirement already satisfied: atomicwrites>=1.0 in /usr/local/lib/python3.7/dist-packages (from pytest->tempeh->aif360) (1.4.0)\n",
            "Requirement already satisfied: pluggy<0.8,>=0.5 in /usr/local/lib/python3.7/dist-packages (from pytest->tempeh->aif360) (0.7.1)\n",
            "Requirement already satisfied: py>=1.5.0 in /usr/local/lib/python3.7/dist-packages (from pytest->tempeh->aif360) (1.10.0)\n",
            "Requirement already satisfied: setuptools in /usr/local/lib/python3.7/dist-packages (from pytest->tempeh->aif360) (57.0.0)\n",
            "Requirement already satisfied: attrs>=17.4.0 in /usr/local/lib/python3.7/dist-packages (from pytest->tempeh->aif360) (21.2.0)\n",
            "Requirement already satisfied: llvmlite<0.35,>=0.34.0.dev0 in /usr/local/lib/python3.7/dist-packages (from numba->shap->tempeh->aif360) (0.34.0)\n",
            "Building wheels for collected packages: memory-profiler, shap\n",
            "  Building wheel for memory-profiler (setup.py) ... \u001b[?25l\u001b[?25hdone\n",
            "  Created wheel for memory-profiler: filename=memory_profiler-0.58.0-cp37-none-any.whl size=30188 sha256=4e9e96912693657987cc65c740277222099f855e9695d63c312d72dc767e2817\n",
            "  Stored in directory: /root/.cache/pip/wheels/02/e4/0b/aaab481fc5dd2a4ea59e78bc7231bb6aae7635ca7ee79f8ae5\n",
            "  Building wheel for shap (setup.py) ... \u001b[?25l\u001b[?25hdone\n",
            "  Created wheel for shap: filename=shap-0.39.0-cp37-cp37m-linux_x86_64.whl size=491632 sha256=003dcbd93a49ab1a8081a9d6b4b02fa937d380a613a950dd7da559ec4fc6e6db\n",
            "  Stored in directory: /root/.cache/pip/wheels/15/27/f5/a8ab9da52fd159aae6477b5ede6eaaec69fd130fa0fa59f283\n",
            "Successfully built memory-profiler shap\n",
            "Installing collected packages: memory-profiler, slicer, shap, tempeh, aif360\n",
            "Successfully installed aif360-0.4.0 memory-profiler-0.58.0 shap-0.39.0 slicer-0.0.7 tempeh-0.1.12\n"
          ],
          "name": "stdout"
        }
      ]
    },
    {
      "cell_type": "code",
      "metadata": {
        "colab": {
          "base_uri": "https://localhost:8080/"
        },
        "id": "rkvnn5_wi9qo",
        "outputId": "323a7974-b91e-4ea2-d059-6e101cc69723"
      },
      "source": [
        "!pip install fairlearn"
      ],
      "execution_count": 3,
      "outputs": [
        {
          "output_type": "stream",
          "text": [
            "Collecting fairlearn\n",
            "\u001b[?25l  Downloading https://files.pythonhosted.org/packages/ea/a4/87a3ee19c036860a0b04dc5c9d51c86b0e147a379981f05fec0b34f8cdfc/fairlearn-0.6.2-py3-none-any.whl (24.6MB)\n",
            "\u001b[K     |████████████████████████████████| 24.6MB 121kB/s \n",
            "\u001b[?25hRequirement already satisfied: numpy>=1.17.2 in /usr/local/lib/python3.7/dist-packages (from fairlearn) (1.19.5)\n",
            "Requirement already satisfied: pandas>=0.25.1 in /usr/local/lib/python3.7/dist-packages (from fairlearn) (1.1.5)\n",
            "Requirement already satisfied: scikit-learn>=0.22.1 in /usr/local/lib/python3.7/dist-packages (from fairlearn) (0.22.2.post1)\n",
            "Requirement already satisfied: scipy>=1.4.1 in /usr/local/lib/python3.7/dist-packages (from fairlearn) (1.4.1)\n",
            "Requirement already satisfied: pytz>=2017.2 in /usr/local/lib/python3.7/dist-packages (from pandas>=0.25.1->fairlearn) (2018.9)\n",
            "Requirement already satisfied: python-dateutil>=2.7.3 in /usr/local/lib/python3.7/dist-packages (from pandas>=0.25.1->fairlearn) (2.8.1)\n",
            "Requirement already satisfied: joblib>=0.11 in /usr/local/lib/python3.7/dist-packages (from scikit-learn>=0.22.1->fairlearn) (1.0.1)\n",
            "Requirement already satisfied: six>=1.5 in /usr/local/lib/python3.7/dist-packages (from python-dateutil>=2.7.3->pandas>=0.25.1->fairlearn) (1.15.0)\n",
            "Installing collected packages: fairlearn\n",
            "Successfully installed fairlearn-0.6.2\n"
          ],
          "name": "stdout"
        }
      ]
    },
    {
      "cell_type": "code",
      "metadata": {
        "id": "h6CobxOfGZTw"
      },
      "source": [
        "# Load all necessary packages\n",
        "import pandas as pd\n",
        "import numpy as np\n",
        "from sklearn.model_selection import train_test_split\n",
        "import aif360\n",
        "from aif360.metrics import BinaryLabelDatasetMetric # require !pip install fairlearn\n",
        "from aif360.algorithms.preprocessing import Reweighing\n",
        "from sklearn.ensemble import AdaBoostClassifier\n",
        "from sklearn import metrics\n",
        "import warnings\n",
        "warnings.filterwarnings(\"ignore\")"
      ],
      "execution_count": 4,
      "outputs": []
    },
    {
      "cell_type": "markdown",
      "metadata": {
        "id": "7NtNZ8mkGZTx"
      },
      "source": [
        "# Data Extraction"
      ]
    },
    {
      "cell_type": "code",
      "metadata": {
        "colab": {
          "base_uri": "https://localhost:8080/"
        },
        "id": "DyB0CYZJjLme",
        "outputId": "5ab80660-000f-49f0-86f4-9864359e5414"
      },
      "source": [
        "# try to read from google drive\n",
        "from google.colab import drive\n",
        "drive.mount('/content/drive')"
      ],
      "execution_count": 5,
      "outputs": [
        {
          "output_type": "stream",
          "text": [
            "Mounted at /content/drive\n"
          ],
          "name": "stdout"
        }
      ]
    },
    {
      "cell_type": "code",
      "metadata": {
        "colab": {
          "base_uri": "https://localhost:8080/",
          "height": 326
        },
        "id": "Nu14RaV4jcYX",
        "outputId": "a22e570b-d2ea-42e2-d8d3-0185271c9aa7"
      },
      "source": [
        "path = \"/content/drive/MyDrive/Colab_Notebooks/telecom_users.csv\"\n",
        "df = pd.read_csv(path)\n",
        "# Dataset is now stored in a Pandas Dataframe\n",
        "df.head()"
      ],
      "execution_count": 6,
      "outputs": [
        {
          "output_type": "execute_result",
          "data": {
            "text/html": [
              "<div>\n",
              "<style scoped>\n",
              "    .dataframe tbody tr th:only-of-type {\n",
              "        vertical-align: middle;\n",
              "    }\n",
              "\n",
              "    .dataframe tbody tr th {\n",
              "        vertical-align: top;\n",
              "    }\n",
              "\n",
              "    .dataframe thead th {\n",
              "        text-align: right;\n",
              "    }\n",
              "</style>\n",
              "<table border=\"1\" class=\"dataframe\">\n",
              "  <thead>\n",
              "    <tr style=\"text-align: right;\">\n",
              "      <th></th>\n",
              "      <th>Unnamed: 0</th>\n",
              "      <th>customerID</th>\n",
              "      <th>gender</th>\n",
              "      <th>SeniorCitizen</th>\n",
              "      <th>Partner</th>\n",
              "      <th>Dependents</th>\n",
              "      <th>tenure</th>\n",
              "      <th>PhoneService</th>\n",
              "      <th>MultipleLines</th>\n",
              "      <th>InternetService</th>\n",
              "      <th>OnlineSecurity</th>\n",
              "      <th>OnlineBackup</th>\n",
              "      <th>DeviceProtection</th>\n",
              "      <th>TechSupport</th>\n",
              "      <th>StreamingTV</th>\n",
              "      <th>StreamingMovies</th>\n",
              "      <th>Contract</th>\n",
              "      <th>PaperlessBilling</th>\n",
              "      <th>PaymentMethod</th>\n",
              "      <th>MonthlyCharges</th>\n",
              "      <th>TotalCharges</th>\n",
              "      <th>Churn</th>\n",
              "    </tr>\n",
              "  </thead>\n",
              "  <tbody>\n",
              "    <tr>\n",
              "      <th>0</th>\n",
              "      <td>1869</td>\n",
              "      <td>7010-BRBUU</td>\n",
              "      <td>Male</td>\n",
              "      <td>0</td>\n",
              "      <td>Yes</td>\n",
              "      <td>Yes</td>\n",
              "      <td>72</td>\n",
              "      <td>Yes</td>\n",
              "      <td>Yes</td>\n",
              "      <td>No</td>\n",
              "      <td>No internet service</td>\n",
              "      <td>No internet service</td>\n",
              "      <td>No internet service</td>\n",
              "      <td>No internet service</td>\n",
              "      <td>No internet service</td>\n",
              "      <td>No internet service</td>\n",
              "      <td>Two year</td>\n",
              "      <td>No</td>\n",
              "      <td>Credit card (automatic)</td>\n",
              "      <td>24.10</td>\n",
              "      <td>1734.65</td>\n",
              "      <td>No</td>\n",
              "    </tr>\n",
              "    <tr>\n",
              "      <th>1</th>\n",
              "      <td>4528</td>\n",
              "      <td>9688-YGXVR</td>\n",
              "      <td>Female</td>\n",
              "      <td>0</td>\n",
              "      <td>No</td>\n",
              "      <td>No</td>\n",
              "      <td>44</td>\n",
              "      <td>Yes</td>\n",
              "      <td>No</td>\n",
              "      <td>Fiber optic</td>\n",
              "      <td>No</td>\n",
              "      <td>Yes</td>\n",
              "      <td>Yes</td>\n",
              "      <td>No</td>\n",
              "      <td>Yes</td>\n",
              "      <td>No</td>\n",
              "      <td>Month-to-month</td>\n",
              "      <td>Yes</td>\n",
              "      <td>Credit card (automatic)</td>\n",
              "      <td>88.15</td>\n",
              "      <td>3973.2</td>\n",
              "      <td>No</td>\n",
              "    </tr>\n",
              "    <tr>\n",
              "      <th>2</th>\n",
              "      <td>6344</td>\n",
              "      <td>9286-DOJGF</td>\n",
              "      <td>Female</td>\n",
              "      <td>1</td>\n",
              "      <td>Yes</td>\n",
              "      <td>No</td>\n",
              "      <td>38</td>\n",
              "      <td>Yes</td>\n",
              "      <td>Yes</td>\n",
              "      <td>Fiber optic</td>\n",
              "      <td>No</td>\n",
              "      <td>No</td>\n",
              "      <td>No</td>\n",
              "      <td>No</td>\n",
              "      <td>No</td>\n",
              "      <td>No</td>\n",
              "      <td>Month-to-month</td>\n",
              "      <td>Yes</td>\n",
              "      <td>Bank transfer (automatic)</td>\n",
              "      <td>74.95</td>\n",
              "      <td>2869.85</td>\n",
              "      <td>Yes</td>\n",
              "    </tr>\n",
              "    <tr>\n",
              "      <th>3</th>\n",
              "      <td>6739</td>\n",
              "      <td>6994-KERXL</td>\n",
              "      <td>Male</td>\n",
              "      <td>0</td>\n",
              "      <td>No</td>\n",
              "      <td>No</td>\n",
              "      <td>4</td>\n",
              "      <td>Yes</td>\n",
              "      <td>No</td>\n",
              "      <td>DSL</td>\n",
              "      <td>No</td>\n",
              "      <td>No</td>\n",
              "      <td>No</td>\n",
              "      <td>No</td>\n",
              "      <td>No</td>\n",
              "      <td>Yes</td>\n",
              "      <td>Month-to-month</td>\n",
              "      <td>Yes</td>\n",
              "      <td>Electronic check</td>\n",
              "      <td>55.90</td>\n",
              "      <td>238.5</td>\n",
              "      <td>No</td>\n",
              "    </tr>\n",
              "    <tr>\n",
              "      <th>4</th>\n",
              "      <td>432</td>\n",
              "      <td>2181-UAESM</td>\n",
              "      <td>Male</td>\n",
              "      <td>0</td>\n",
              "      <td>No</td>\n",
              "      <td>No</td>\n",
              "      <td>2</td>\n",
              "      <td>Yes</td>\n",
              "      <td>No</td>\n",
              "      <td>DSL</td>\n",
              "      <td>Yes</td>\n",
              "      <td>No</td>\n",
              "      <td>Yes</td>\n",
              "      <td>No</td>\n",
              "      <td>No</td>\n",
              "      <td>No</td>\n",
              "      <td>Month-to-month</td>\n",
              "      <td>No</td>\n",
              "      <td>Electronic check</td>\n",
              "      <td>53.45</td>\n",
              "      <td>119.5</td>\n",
              "      <td>No</td>\n",
              "    </tr>\n",
              "  </tbody>\n",
              "</table>\n",
              "</div>"
            ],
            "text/plain": [
              "   Unnamed: 0  customerID  gender  ...  MonthlyCharges TotalCharges Churn\n",
              "0        1869  7010-BRBUU    Male  ...           24.10      1734.65    No\n",
              "1        4528  9688-YGXVR  Female  ...           88.15       3973.2    No\n",
              "2        6344  9286-DOJGF  Female  ...           74.95      2869.85   Yes\n",
              "3        6739  6994-KERXL    Male  ...           55.90        238.5    No\n",
              "4         432  2181-UAESM    Male  ...           53.45        119.5    No\n",
              "\n",
              "[5 rows x 22 columns]"
            ]
          },
          "metadata": {
            "tags": []
          },
          "execution_count": 6
        }
      ]
    },
    {
      "cell_type": "code",
      "metadata": {
        "id": "rSvXl_VRGZTz",
        "colab": {
          "base_uri": "https://localhost:8080/"
        },
        "outputId": "f92eaafa-dec5-49ed-f1e7-1d0659e06ffd"
      },
      "source": [
        "# Let's display columns \n",
        "df.columns"
      ],
      "execution_count": 8,
      "outputs": [
        {
          "output_type": "execute_result",
          "data": {
            "text/plain": [
              "Index(['Unnamed: 0', 'customerID', 'gender', 'SeniorCitizen', 'Partner',\n",
              "       'Dependents', 'tenure', 'PhoneService', 'MultipleLines',\n",
              "       'InternetService', 'OnlineSecurity', 'OnlineBackup', 'DeviceProtection',\n",
              "       'TechSupport', 'StreamingTV', 'StreamingMovies', 'Contract',\n",
              "       'PaperlessBilling', 'PaymentMethod', 'MonthlyCharges', 'TotalCharges',\n",
              "       'Churn'],\n",
              "      dtype='object')"
            ]
          },
          "metadata": {
            "tags": []
          },
          "execution_count": 8
        }
      ]
    },
    {
      "cell_type": "code",
      "metadata": {
        "id": "gxWBHuqDGZTz",
        "colab": {
          "base_uri": "https://localhost:8080/"
        },
        "outputId": "04a8dcb8-f4a9-40c0-9aa4-ac4a8fe119c9"
      },
      "source": [
        "df.info()"
      ],
      "execution_count": 9,
      "outputs": [
        {
          "output_type": "stream",
          "text": [
            "<class 'pandas.core.frame.DataFrame'>\n",
            "RangeIndex: 5986 entries, 0 to 5985\n",
            "Data columns (total 22 columns):\n",
            " #   Column            Non-Null Count  Dtype  \n",
            "---  ------            --------------  -----  \n",
            " 0   Unnamed: 0        5986 non-null   int64  \n",
            " 1   customerID        5986 non-null   object \n",
            " 2   gender            5986 non-null   object \n",
            " 3   SeniorCitizen     5986 non-null   int64  \n",
            " 4   Partner           5986 non-null   object \n",
            " 5   Dependents        5986 non-null   object \n",
            " 6   tenure            5986 non-null   int64  \n",
            " 7   PhoneService      5986 non-null   object \n",
            " 8   MultipleLines     5986 non-null   object \n",
            " 9   InternetService   5986 non-null   object \n",
            " 10  OnlineSecurity    5986 non-null   object \n",
            " 11  OnlineBackup      5986 non-null   object \n",
            " 12  DeviceProtection  5986 non-null   object \n",
            " 13  TechSupport       5986 non-null   object \n",
            " 14  StreamingTV       5986 non-null   object \n",
            " 15  StreamingMovies   5986 non-null   object \n",
            " 16  Contract          5986 non-null   object \n",
            " 17  PaperlessBilling  5986 non-null   object \n",
            " 18  PaymentMethod     5986 non-null   object \n",
            " 19  MonthlyCharges    5986 non-null   float64\n",
            " 20  TotalCharges      5986 non-null   object \n",
            " 21  Churn             5986 non-null   object \n",
            "dtypes: float64(1), int64(3), object(18)\n",
            "memory usage: 1.0+ MB\n"
          ],
          "name": "stdout"
        }
      ]
    },
    {
      "cell_type": "markdown",
      "metadata": {
        "id": "o0O5oE4EGZTz"
      },
      "source": [
        "# Data Pre-processing"
      ]
    },
    {
      "cell_type": "markdown",
      "metadata": {
        "id": "6Bg_pRy7GZT0"
      },
      "source": [
        "#### List of columns we will be using to experiment with the fairness toolkit\n",
        "\n",
        "- gender - Categorical\n",
        "- tenure - Continous\n",
        "- PhoneService - Categorical\n",
        "- InternetService - Categorical\n",
        "- DeviceProtection - Categorical\n",
        "- TechSupport - Categorical\n",
        "- MonthlyCharges - Continous\n",
        "- TotalCharges - Continous\n",
        "- Churn - Categorical"
      ]
    },
    {
      "cell_type": "code",
      "metadata": {
        "id": "_Dvs05MvGZT0"
      },
      "source": [
        "# Get list of categorical variables\n",
        "cat = ['PhoneService', 'InternetService', 'DeviceProtection', 'TechSupport']\n",
        "\n",
        "# Get list of continous variables\n",
        "continous = ['tenure', 'MonthlyCharges', 'TotalCharges']\n",
        "\n",
        "# Variable that we suspect bias \n",
        "expected_bias = ['gender']\n",
        "\n",
        "# Target variable\n",
        "target = ['Churn']"
      ],
      "execution_count": 10,
      "outputs": []
    },
    {
      "cell_type": "code",
      "metadata": {
        "id": "BvavW70MGZT0"
      },
      "source": [
        "# Use selected column \n",
        "selected_data = df[['gender', 'tenure', 'PhoneService', 'InternetService', 'DeviceProtection', \n",
        "                   'TechSupport', 'MonthlyCharges', 'TotalCharges', 'Churn']]"
      ],
      "execution_count": 11,
      "outputs": []
    },
    {
      "cell_type": "code",
      "metadata": {
        "id": "IHjtqJm8GZT1",
        "colab": {
          "base_uri": "https://localhost:8080/",
          "height": 204
        },
        "outputId": "66d3a9a7-3911-4dcc-d905-fe37b00ca66d"
      },
      "source": [
        "#Display selected data\n",
        "selected_data.head()"
      ],
      "execution_count": 12,
      "outputs": [
        {
          "output_type": "execute_result",
          "data": {
            "text/html": [
              "<div>\n",
              "<style scoped>\n",
              "    .dataframe tbody tr th:only-of-type {\n",
              "        vertical-align: middle;\n",
              "    }\n",
              "\n",
              "    .dataframe tbody tr th {\n",
              "        vertical-align: top;\n",
              "    }\n",
              "\n",
              "    .dataframe thead th {\n",
              "        text-align: right;\n",
              "    }\n",
              "</style>\n",
              "<table border=\"1\" class=\"dataframe\">\n",
              "  <thead>\n",
              "    <tr style=\"text-align: right;\">\n",
              "      <th></th>\n",
              "      <th>gender</th>\n",
              "      <th>tenure</th>\n",
              "      <th>PhoneService</th>\n",
              "      <th>InternetService</th>\n",
              "      <th>DeviceProtection</th>\n",
              "      <th>TechSupport</th>\n",
              "      <th>MonthlyCharges</th>\n",
              "      <th>TotalCharges</th>\n",
              "      <th>Churn</th>\n",
              "    </tr>\n",
              "  </thead>\n",
              "  <tbody>\n",
              "    <tr>\n",
              "      <th>0</th>\n",
              "      <td>Male</td>\n",
              "      <td>72</td>\n",
              "      <td>Yes</td>\n",
              "      <td>No</td>\n",
              "      <td>No internet service</td>\n",
              "      <td>No internet service</td>\n",
              "      <td>24.10</td>\n",
              "      <td>1734.65</td>\n",
              "      <td>No</td>\n",
              "    </tr>\n",
              "    <tr>\n",
              "      <th>1</th>\n",
              "      <td>Female</td>\n",
              "      <td>44</td>\n",
              "      <td>Yes</td>\n",
              "      <td>Fiber optic</td>\n",
              "      <td>Yes</td>\n",
              "      <td>No</td>\n",
              "      <td>88.15</td>\n",
              "      <td>3973.2</td>\n",
              "      <td>No</td>\n",
              "    </tr>\n",
              "    <tr>\n",
              "      <th>2</th>\n",
              "      <td>Female</td>\n",
              "      <td>38</td>\n",
              "      <td>Yes</td>\n",
              "      <td>Fiber optic</td>\n",
              "      <td>No</td>\n",
              "      <td>No</td>\n",
              "      <td>74.95</td>\n",
              "      <td>2869.85</td>\n",
              "      <td>Yes</td>\n",
              "    </tr>\n",
              "    <tr>\n",
              "      <th>3</th>\n",
              "      <td>Male</td>\n",
              "      <td>4</td>\n",
              "      <td>Yes</td>\n",
              "      <td>DSL</td>\n",
              "      <td>No</td>\n",
              "      <td>No</td>\n",
              "      <td>55.90</td>\n",
              "      <td>238.5</td>\n",
              "      <td>No</td>\n",
              "    </tr>\n",
              "    <tr>\n",
              "      <th>4</th>\n",
              "      <td>Male</td>\n",
              "      <td>2</td>\n",
              "      <td>Yes</td>\n",
              "      <td>DSL</td>\n",
              "      <td>Yes</td>\n",
              "      <td>No</td>\n",
              "      <td>53.45</td>\n",
              "      <td>119.5</td>\n",
              "      <td>No</td>\n",
              "    </tr>\n",
              "  </tbody>\n",
              "</table>\n",
              "</div>"
            ],
            "text/plain": [
              "   gender  tenure PhoneService  ... MonthlyCharges TotalCharges Churn\n",
              "0    Male      72          Yes  ...          24.10      1734.65    No\n",
              "1  Female      44          Yes  ...          88.15       3973.2    No\n",
              "2  Female      38          Yes  ...          74.95      2869.85   Yes\n",
              "3    Male       4          Yes  ...          55.90        238.5    No\n",
              "4    Male       2          Yes  ...          53.45        119.5    No\n",
              "\n",
              "[5 rows x 9 columns]"
            ]
          },
          "metadata": {
            "tags": []
          },
          "execution_count": 12
        }
      ]
    },
    {
      "cell_type": "code",
      "metadata": {
        "id": "qVOlTandGZT1",
        "colab": {
          "base_uri": "https://localhost:8080/"
        },
        "outputId": "eae5ebb6-e921-4c2f-def6-d30ba5c43981"
      },
      "source": [
        "# Basic information\n",
        "selected_data.info()"
      ],
      "execution_count": 13,
      "outputs": [
        {
          "output_type": "stream",
          "text": [
            "<class 'pandas.core.frame.DataFrame'>\n",
            "RangeIndex: 5986 entries, 0 to 5985\n",
            "Data columns (total 9 columns):\n",
            " #   Column            Non-Null Count  Dtype  \n",
            "---  ------            --------------  -----  \n",
            " 0   gender            5986 non-null   object \n",
            " 1   tenure            5986 non-null   int64  \n",
            " 2   PhoneService      5986 non-null   object \n",
            " 3   InternetService   5986 non-null   object \n",
            " 4   DeviceProtection  5986 non-null   object \n",
            " 5   TechSupport       5986 non-null   object \n",
            " 6   MonthlyCharges    5986 non-null   float64\n",
            " 7   TotalCharges      5986 non-null   object \n",
            " 8   Churn             5986 non-null   object \n",
            "dtypes: float64(1), int64(1), object(7)\n",
            "memory usage: 421.0+ KB\n"
          ],
          "name": "stdout"
        }
      ]
    },
    {
      "cell_type": "code",
      "metadata": {
        "id": "ChvMNh2BGZT1",
        "colab": {
          "base_uri": "https://localhost:8080/"
        },
        "outputId": "c6323cec-ff59-4754-d637-c18ed8e0589a"
      },
      "source": [
        "# Observe that TotalCharges have blank values\n",
        "print('Before removing blank values')\n",
        "print(selected_data[selected_data['TotalCharges'] == ' '].index)\n",
        "\n",
        "# replacing values that contains only spaces \"  \" (any number of spaces) with 0\n",
        "selected_data['TotalCharges'] = selected_data['TotalCharges'].replace(r'^\\s*$', 0, regex=True)\n",
        "\n",
        "print('After removing blank values')\n",
        "print(selected_data[selected_data['TotalCharges'] == ' '].index)\n",
        "\n",
        "selected_data['TotalCharges'] = selected_data['TotalCharges'].astype(float) # converting datatype to float from object"
      ],
      "execution_count": 14,
      "outputs": [
        {
          "output_type": "stream",
          "text": [
            "Before removing blank values\n",
            "Int64Index([356, 634, 2771, 3086, 3255, 4326, 5375, 5382, 5695, 5951], dtype='int64')\n",
            "After removing blank values\n",
            "Int64Index([], dtype='int64')\n"
          ],
          "name": "stdout"
        }
      ]
    },
    {
      "cell_type": "markdown",
      "metadata": {
        "id": "390dqjiTGZT2"
      },
      "source": [
        "### Encode Data (String -> Numeric)"
      ]
    },
    {
      "cell_type": "markdown",
      "metadata": {
        "id": "Hqnwbqx6GZT2"
      },
      "source": [
        "#### Target Column"
      ]
    },
    {
      "cell_type": "code",
      "metadata": {
        "id": "Sr4ax6FVGZT2",
        "colab": {
          "base_uri": "https://localhost:8080/"
        },
        "outputId": "e558c26a-21dd-452f-f6a6-00eb0a33cca0"
      },
      "source": [
        "# Encode target column\n",
        "# First let's see unique values in the target column\n",
        "print('Before encoding:', selected_data['Churn'].unique())\n",
        "\n",
        "# Encode target columns: Assign `Yes` to 1 and `No` to 0\n",
        "selected_data[\"Churn\"] = np.where(selected_data[\"Churn\"].str.contains(\"Yes\"), 1, 0)\n",
        "print('After encoding:', selected_data['Churn'].unique())"
      ],
      "execution_count": 15,
      "outputs": [
        {
          "output_type": "stream",
          "text": [
            "Before encoding: ['No' 'Yes']\n",
            "After encoding: [0 1]\n"
          ],
          "name": "stdout"
        }
      ]
    },
    {
      "cell_type": "markdown",
      "metadata": {
        "id": "5kPzZT6EGZT2"
      },
      "source": [
        "#### Bias Feature"
      ]
    },
    {
      "cell_type": "code",
      "metadata": {
        "id": "wtBW7IhEGZT3",
        "colab": {
          "base_uri": "https://localhost:8080/"
        },
        "outputId": "ea7a209e-0640-4dfe-e5e0-119f0087c6e3"
      },
      "source": [
        "# We suspect bias to exist in the gender so let's encode the column seprately as we want them to have as one column\n",
        "\n",
        "# First let's see unique values in the target column\n",
        "print('Before encoding:', selected_data['gender'].unique())\n",
        "\n",
        "# Encode target columns: Assign `Male` to 1 and `Female` to 0\n",
        "selected_data[\"gender\"] = np.where(selected_data[\"gender\"].str.contains(\"Male\"), 1, 0)\n",
        "\n",
        "print('After encoding:', selected_data['gender'].unique())"
      ],
      "execution_count": 16,
      "outputs": [
        {
          "output_type": "stream",
          "text": [
            "Before encoding: ['Male' 'Female']\n",
            "After encoding: [1 0]\n"
          ],
          "name": "stdout"
        }
      ]
    },
    {
      "cell_type": "markdown",
      "metadata": {
        "id": "Pf-glgdCGZT3"
      },
      "source": [
        "#### Categorical Column"
      ]
    },
    {
      "cell_type": "markdown",
      "metadata": {
        "id": "huqsraimGZT3"
      },
      "source": [
        "![img1](https://github.com/SSaishruthi/Guvi_AI_For_India/blob/main/encoding.png?raw=1)"
      ]
    },
    {
      "cell_type": "code",
      "metadata": {
        "id": "cbNxeFkMGZT3",
        "colab": {
          "base_uri": "https://localhost:8080/"
        },
        "outputId": "fc77a7f6-5d7b-4e1d-822a-2d05bdb45f1c"
      },
      "source": [
        "# Display unique values in categorical columns\n",
        "for col in cat:\n",
        "    print(selected_data[col].unique())"
      ],
      "execution_count": 17,
      "outputs": [
        {
          "output_type": "stream",
          "text": [
            "['Yes' 'No']\n",
            "['No' 'Fiber optic' 'DSL']\n",
            "['No internet service' 'Yes' 'No']\n",
            "['No internet service' 'No' 'Yes']\n"
          ],
          "name": "stdout"
        }
      ]
    },
    {
      "cell_type": "code",
      "metadata": {
        "id": "O4WoxX3RGZT4"
      },
      "source": [
        "# Encode other categorical column - Using one-hot encoding\n",
        "dum = pd.get_dummies(selected_data[cat].astype('category'),prefix_sep='=')"
      ],
      "execution_count": 18,
      "outputs": []
    },
    {
      "cell_type": "code",
      "metadata": {
        "id": "l-FNRPSKGZT4",
        "colab": {
          "base_uri": "https://localhost:8080/",
          "height": 165
        },
        "outputId": "f96f7b52-32a4-4318-d2c7-0cf9a8143ba3"
      },
      "source": [
        "dum.head(2)"
      ],
      "execution_count": 19,
      "outputs": [
        {
          "output_type": "execute_result",
          "data": {
            "text/html": [
              "<div>\n",
              "<style scoped>\n",
              "    .dataframe tbody tr th:only-of-type {\n",
              "        vertical-align: middle;\n",
              "    }\n",
              "\n",
              "    .dataframe tbody tr th {\n",
              "        vertical-align: top;\n",
              "    }\n",
              "\n",
              "    .dataframe thead th {\n",
              "        text-align: right;\n",
              "    }\n",
              "</style>\n",
              "<table border=\"1\" class=\"dataframe\">\n",
              "  <thead>\n",
              "    <tr style=\"text-align: right;\">\n",
              "      <th></th>\n",
              "      <th>PhoneService=No</th>\n",
              "      <th>PhoneService=Yes</th>\n",
              "      <th>InternetService=DSL</th>\n",
              "      <th>InternetService=Fiber optic</th>\n",
              "      <th>InternetService=No</th>\n",
              "      <th>DeviceProtection=No</th>\n",
              "      <th>DeviceProtection=No internet service</th>\n",
              "      <th>DeviceProtection=Yes</th>\n",
              "      <th>TechSupport=No</th>\n",
              "      <th>TechSupport=No internet service</th>\n",
              "      <th>TechSupport=Yes</th>\n",
              "    </tr>\n",
              "  </thead>\n",
              "  <tbody>\n",
              "    <tr>\n",
              "      <th>0</th>\n",
              "      <td>0</td>\n",
              "      <td>1</td>\n",
              "      <td>0</td>\n",
              "      <td>0</td>\n",
              "      <td>1</td>\n",
              "      <td>0</td>\n",
              "      <td>1</td>\n",
              "      <td>0</td>\n",
              "      <td>0</td>\n",
              "      <td>1</td>\n",
              "      <td>0</td>\n",
              "    </tr>\n",
              "    <tr>\n",
              "      <th>1</th>\n",
              "      <td>0</td>\n",
              "      <td>1</td>\n",
              "      <td>0</td>\n",
              "      <td>1</td>\n",
              "      <td>0</td>\n",
              "      <td>0</td>\n",
              "      <td>0</td>\n",
              "      <td>1</td>\n",
              "      <td>1</td>\n",
              "      <td>0</td>\n",
              "      <td>0</td>\n",
              "    </tr>\n",
              "  </tbody>\n",
              "</table>\n",
              "</div>"
            ],
            "text/plain": [
              "   PhoneService=No  ...  TechSupport=Yes\n",
              "0                0  ...                0\n",
              "1                0  ...                0\n",
              "\n",
              "[2 rows x 11 columns]"
            ]
          },
          "metadata": {
            "tags": []
          },
          "execution_count": 19
        }
      ]
    },
    {
      "cell_type": "markdown",
      "metadata": {
        "id": "O-DQ8FscGZT4"
      },
      "source": [
        "#### Get Processed Dataset\n",
        "\n",
        "Combine encoded data with continous variable, gender (expected bias), and target variable)"
      ]
    },
    {
      "cell_type": "code",
      "metadata": {
        "id": "xOD9euC9GZT4"
      },
      "source": [
        "encoded_df = pd.concat([dum, selected_data[continous], selected_data[expected_bias], selected_data[target]], axis=1)\n",
        "# as axis is 1, they will get concatenated along axis"
      ],
      "execution_count": 20,
      "outputs": []
    },
    {
      "cell_type": "code",
      "metadata": {
        "id": "PeqrrM21GZT5",
        "colab": {
          "base_uri": "https://localhost:8080/"
        },
        "outputId": "1cb9ecfb-1467-4b93-e3bf-fb07659d790c"
      },
      "source": [
        "encoded_df.columns"
      ],
      "execution_count": 21,
      "outputs": [
        {
          "output_type": "execute_result",
          "data": {
            "text/plain": [
              "Index(['PhoneService=No', 'PhoneService=Yes', 'InternetService=DSL',\n",
              "       'InternetService=Fiber optic', 'InternetService=No',\n",
              "       'DeviceProtection=No', 'DeviceProtection=No internet service',\n",
              "       'DeviceProtection=Yes', 'TechSupport=No',\n",
              "       'TechSupport=No internet service', 'TechSupport=Yes', 'tenure',\n",
              "       'MonthlyCharges', 'TotalCharges', 'gender', 'Churn'],\n",
              "      dtype='object')"
            ]
          },
          "metadata": {
            "tags": []
          },
          "execution_count": 21
        }
      ]
    },
    {
      "cell_type": "code",
      "metadata": {
        "id": "ATijl1NlGZT5",
        "colab": {
          "base_uri": "https://localhost:8080/",
          "height": 258
        },
        "outputId": "b966f402-103d-4364-dcd7-d35885d60653"
      },
      "source": [
        "encoded_df.head()"
      ],
      "execution_count": 22,
      "outputs": [
        {
          "output_type": "execute_result",
          "data": {
            "text/html": [
              "<div>\n",
              "<style scoped>\n",
              "    .dataframe tbody tr th:only-of-type {\n",
              "        vertical-align: middle;\n",
              "    }\n",
              "\n",
              "    .dataframe tbody tr th {\n",
              "        vertical-align: top;\n",
              "    }\n",
              "\n",
              "    .dataframe thead th {\n",
              "        text-align: right;\n",
              "    }\n",
              "</style>\n",
              "<table border=\"1\" class=\"dataframe\">\n",
              "  <thead>\n",
              "    <tr style=\"text-align: right;\">\n",
              "      <th></th>\n",
              "      <th>PhoneService=No</th>\n",
              "      <th>PhoneService=Yes</th>\n",
              "      <th>InternetService=DSL</th>\n",
              "      <th>InternetService=Fiber optic</th>\n",
              "      <th>InternetService=No</th>\n",
              "      <th>DeviceProtection=No</th>\n",
              "      <th>DeviceProtection=No internet service</th>\n",
              "      <th>DeviceProtection=Yes</th>\n",
              "      <th>TechSupport=No</th>\n",
              "      <th>TechSupport=No internet service</th>\n",
              "      <th>TechSupport=Yes</th>\n",
              "      <th>tenure</th>\n",
              "      <th>MonthlyCharges</th>\n",
              "      <th>TotalCharges</th>\n",
              "      <th>gender</th>\n",
              "      <th>Churn</th>\n",
              "    </tr>\n",
              "  </thead>\n",
              "  <tbody>\n",
              "    <tr>\n",
              "      <th>0</th>\n",
              "      <td>0</td>\n",
              "      <td>1</td>\n",
              "      <td>0</td>\n",
              "      <td>0</td>\n",
              "      <td>1</td>\n",
              "      <td>0</td>\n",
              "      <td>1</td>\n",
              "      <td>0</td>\n",
              "      <td>0</td>\n",
              "      <td>1</td>\n",
              "      <td>0</td>\n",
              "      <td>72</td>\n",
              "      <td>24.10</td>\n",
              "      <td>1734.65</td>\n",
              "      <td>1</td>\n",
              "      <td>0</td>\n",
              "    </tr>\n",
              "    <tr>\n",
              "      <th>1</th>\n",
              "      <td>0</td>\n",
              "      <td>1</td>\n",
              "      <td>0</td>\n",
              "      <td>1</td>\n",
              "      <td>0</td>\n",
              "      <td>0</td>\n",
              "      <td>0</td>\n",
              "      <td>1</td>\n",
              "      <td>1</td>\n",
              "      <td>0</td>\n",
              "      <td>0</td>\n",
              "      <td>44</td>\n",
              "      <td>88.15</td>\n",
              "      <td>3973.20</td>\n",
              "      <td>0</td>\n",
              "      <td>0</td>\n",
              "    </tr>\n",
              "    <tr>\n",
              "      <th>2</th>\n",
              "      <td>0</td>\n",
              "      <td>1</td>\n",
              "      <td>0</td>\n",
              "      <td>1</td>\n",
              "      <td>0</td>\n",
              "      <td>1</td>\n",
              "      <td>0</td>\n",
              "      <td>0</td>\n",
              "      <td>1</td>\n",
              "      <td>0</td>\n",
              "      <td>0</td>\n",
              "      <td>38</td>\n",
              "      <td>74.95</td>\n",
              "      <td>2869.85</td>\n",
              "      <td>0</td>\n",
              "      <td>1</td>\n",
              "    </tr>\n",
              "    <tr>\n",
              "      <th>3</th>\n",
              "      <td>0</td>\n",
              "      <td>1</td>\n",
              "      <td>1</td>\n",
              "      <td>0</td>\n",
              "      <td>0</td>\n",
              "      <td>1</td>\n",
              "      <td>0</td>\n",
              "      <td>0</td>\n",
              "      <td>1</td>\n",
              "      <td>0</td>\n",
              "      <td>0</td>\n",
              "      <td>4</td>\n",
              "      <td>55.90</td>\n",
              "      <td>238.50</td>\n",
              "      <td>1</td>\n",
              "      <td>0</td>\n",
              "    </tr>\n",
              "    <tr>\n",
              "      <th>4</th>\n",
              "      <td>0</td>\n",
              "      <td>1</td>\n",
              "      <td>1</td>\n",
              "      <td>0</td>\n",
              "      <td>0</td>\n",
              "      <td>0</td>\n",
              "      <td>0</td>\n",
              "      <td>1</td>\n",
              "      <td>1</td>\n",
              "      <td>0</td>\n",
              "      <td>0</td>\n",
              "      <td>2</td>\n",
              "      <td>53.45</td>\n",
              "      <td>119.50</td>\n",
              "      <td>1</td>\n",
              "      <td>0</td>\n",
              "    </tr>\n",
              "  </tbody>\n",
              "</table>\n",
              "</div>"
            ],
            "text/plain": [
              "   PhoneService=No  PhoneService=Yes  ...  gender  Churn\n",
              "0                0                 1  ...       1      0\n",
              "1                0                 1  ...       0      0\n",
              "2                0                 1  ...       0      1\n",
              "3                0                 1  ...       1      0\n",
              "4                0                 1  ...       1      0\n",
              "\n",
              "[5 rows x 16 columns]"
            ]
          },
          "metadata": {
            "tags": []
          },
          "execution_count": 22
        }
      ]
    },
    {
      "cell_type": "markdown",
      "metadata": {
        "id": "dfCoDs9PGZT5"
      },
      "source": [
        "# Model Development - Without Bias Analysis"
      ]
    },
    {
      "cell_type": "code",
      "metadata": {
        "id": "wU5o1qYUGZT6",
        "colab": {
          "base_uri": "https://localhost:8080/"
        },
        "outputId": "9d09d2f0-ef02-41db-eacb-571122e9f326"
      },
      "source": [
        "# Check if the dataset is balanced\n",
        "encoded_df['Churn'].value_counts()"
      ],
      "execution_count": 23,
      "outputs": [
        {
          "output_type": "execute_result",
          "data": {
            "text/plain": [
              "0    4399\n",
              "1    1587\n",
              "Name: Churn, dtype: int64"
            ]
          },
          "metadata": {
            "tags": []
          },
          "execution_count": 23
        }
      ]
    },
    {
      "cell_type": "markdown",
      "metadata": {
        "id": "Uf2_KEidGZT6"
      },
      "source": [
        "#### How to deal with data imbalance?\n",
        "\n",
        "- https://www.analyticsvidhya.com/blog/2017/03/imbalanced-data-classification/\n",
        "- https://machinelearningmastery.com/tactics-to-combat-imbalanced-classes-in-your-machine-learning-dataset/\n",
        "\n",
        "Here, we are using adaptive boosting technique in this example to deal with data imbalance.\n",
        "\n",
        "#### An AdaBoost classifier.\n",
        "\n",
        "Ada Boost is the first original boosting technique which creates a highly accurate prediction rule by combining many weak and inaccurate rules.  Each classifier is serially trained with the goal of correctly classifying examples in every round that were incorrectly classified in the previous round."
      ]
    },
    {
      "cell_type": "code",
      "metadata": {
        "id": "5aQJR8QiGZT6",
        "colab": {
          "base_uri": "https://localhost:8080/"
        },
        "outputId": "1a1142ef-fd3e-46aa-8c8f-f91652f811d8"
      },
      "source": [
        "# Get only features\n",
        "feature_df = encoded_df.drop(['Churn'], axis=1)\n",
        "\n",
        "# Extract target column \n",
        "target_df = encoded_df[['Churn']]\n",
        "\n",
        "# Split dataset into train and test (Best Practise is to split into train, validation, and test)\n",
        "x_train,x_test,y_train,y_test = train_test_split(feature_df, target_df, test_size=0.2, random_state = 0)\n",
        "\n",
        "# Initialize adaboost classifier\n",
        "cls = AdaBoostClassifier(n_estimators=100)\n",
        "\n",
        "# Fit the model\n",
        "cls.fit(x_train, y_train)\n",
        "\n",
        "# Predict and calculate metrics\n",
        "print(\"Accuracy:\", metrics.accuracy_score(y_test, cls.predict(x_test)))"
      ],
      "execution_count": 24,
      "outputs": [
        {
          "output_type": "stream",
          "text": [
            "Accuracy: 0.7821368948247078\n"
          ],
          "name": "stdout"
        }
      ]
    },
    {
      "cell_type": "markdown",
      "metadata": {
        "id": "LMbtyb34GZT7"
      },
      "source": [
        "# Model Development - With Bias Analysis using AI Fairness 360"
      ]
    },
    {
      "cell_type": "markdown",
      "metadata": {
        "id": "olEfOqBKGZT7"
      },
      "source": [
        "![img](https://github.com/SSaishruthi/Guvi_AI_For_India/blob/main/aif.png?raw=1)"
      ]
    },
    {
      "cell_type": "markdown",
      "metadata": {
        "id": "K5GryBR9GZT7"
      },
      "source": [
        "#### Terms:\n",
        "    \n",
        "##### Bias\n",
        "The bias is an error from erroneous assumptions in the learning algorithm.\n",
        "\n",
        "---\n",
        "##### Protected attribute\n",
        "Attribute that partition population in groups.\n",
        "\n",
        "---\n",
        "##### Privileged protected attribute\n",
        "Value of the protected attribute indicating a group that has historically been at systematic advantage.\n",
        "\n",
        "---\n",
        "##### Unwanted Bias\n",
        "Places privileged groups at a systematic advantage and unprivileged groups at a systematic disadvantage.\n",
        "\n",
        "---\n",
        "##### Favorable Label & Unfavourable Label\n",
        "A label whose value corresponds to an outcome that provides an advantage to the recipient. The opposite is an unfavorable lable."
      ]
    },
    {
      "cell_type": "code",
      "metadata": {
        "id": "bmCHmZn_GZT7"
      },
      "source": [
        "privileged_groups = [{'gender': 1}] #male\n",
        "unprivileged_groups = [{'gender': 0}] #female\n",
        "\n",
        "favorable_label=0\n",
        "unfavorable_label=1"
      ],
      "execution_count": 25,
      "outputs": []
    },
    {
      "cell_type": "markdown",
      "metadata": {
        "id": "ruW27VNNGZT8"
      },
      "source": [
        "#### Covert into AIF360 compatible dataset"
      ]
    },
    {
      "cell_type": "code",
      "metadata": {
        "id": "4JoswUEMGZT8"
      },
      "source": [
        "# Covert into AIF360 compatible dataset\n",
        "aif360_dataset = aif360.datasets.BinaryLabelDataset(\n",
        "    favorable_label=favorable_label,\n",
        "    unfavorable_label=unfavorable_label,\n",
        "    df=encoded_df,\n",
        "    label_names=['Churn'],\n",
        "    protected_attribute_names=['gender'])"
      ],
      "execution_count": 26,
      "outputs": []
    },
    {
      "cell_type": "code",
      "metadata": {
        "id": "B7ruxbwnGZT8",
        "colab": {
          "base_uri": "https://localhost:8080/"
        },
        "outputId": "91f6fc8f-cd35-4179-857f-c91c81cdb645"
      },
      "source": [
        "aif360_dataset.label_names"
      ],
      "execution_count": 27,
      "outputs": [
        {
          "output_type": "execute_result",
          "data": {
            "text/plain": [
              "['Churn']"
            ]
          },
          "metadata": {
            "tags": []
          },
          "execution_count": 27
        }
      ]
    },
    {
      "cell_type": "code",
      "metadata": {
        "id": "o79XtC3tGZT8",
        "colab": {
          "base_uri": "https://localhost:8080/"
        },
        "outputId": "c876325b-d560-4dd6-883a-9dca87c7ca2a"
      },
      "source": [
        "aif360_dataset.feature_names"
      ],
      "execution_count": 28,
      "outputs": [
        {
          "output_type": "execute_result",
          "data": {
            "text/plain": [
              "['PhoneService=No',\n",
              " 'PhoneService=Yes',\n",
              " 'InternetService=DSL',\n",
              " 'InternetService=Fiber optic',\n",
              " 'InternetService=No',\n",
              " 'DeviceProtection=No',\n",
              " 'DeviceProtection=No internet service',\n",
              " 'DeviceProtection=Yes',\n",
              " 'TechSupport=No',\n",
              " 'TechSupport=No internet service',\n",
              " 'TechSupport=Yes',\n",
              " 'tenure',\n",
              " 'MonthlyCharges',\n",
              " 'TotalCharges',\n",
              " 'gender']"
            ]
          },
          "metadata": {
            "tags": []
          },
          "execution_count": 28
        }
      ]
    },
    {
      "cell_type": "code",
      "metadata": {
        "id": "f7tP50u4GZT8"
      },
      "source": [
        "#  Get the dataset and split into train and test\n",
        "aif360_train, aif360_test = aif360_dataset.split([0.7])"
      ],
      "execution_count": 29,
      "outputs": []
    },
    {
      "cell_type": "markdown",
      "metadata": {
        "id": "UGaqbwN1GZT9"
      },
      "source": [
        "#### Check for bias"
      ]
    },
    {
      "cell_type": "markdown",
      "metadata": {
        "id": "-enW8_y5GZT9"
      },
      "source": [
        "##### statistical parity difference\n",
        "\n",
        "This measure is based on the following formula :\n",
        "\n",
        "Pr(Y=1|D=unprivileged)−Pr(Y=1|D=privileged)\n",
        " \n",
        "Here the bias or statistical imparity is the difference between the probability that a random individual drawn from unprivileged is labeled 1 (so here that he has more than 50K for income) and the probability that a random individual from privileged is labeled 1.\n",
        "\n",
        "So it has to be close to 0 so it will be fair."
      ]
    },
    {
      "cell_type": "code",
      "metadata": {
        "id": "KEfcPgU1GZT9",
        "colab": {
          "base_uri": "https://localhost:8080/"
        },
        "outputId": "6d315bae-4f96-4d63-d428-1263fc74d5fa"
      },
      "source": [
        "# Metric for the original dataset\n",
        "metric_orig_train = BinaryLabelDatasetMetric(aif360_train, \n",
        "                                             unprivileged_groups=unprivileged_groups,\n",
        "                                             privileged_groups=privileged_groups)\n",
        "print(\"Original training dataset\")\n",
        "print(\"Difference in mean outcomes between unprivileged and privileged groups = %f\" % metric_orig_train.statistical_parity_difference())"
      ],
      "execution_count": 30,
      "outputs": [
        {
          "output_type": "stream",
          "text": [
            "Original training dataset\n",
            "Difference in mean outcomes between unprivileged and privileged groups = -0.004643\n"
          ],
          "name": "stdout"
        }
      ]
    },
    {
      "cell_type": "markdown",
      "metadata": {
        "id": "Dz6LGwZrGZT9"
      },
      "source": [
        "##### Reweighing\n",
        "\n",
        "Reweighing is a preprocessing technique that Weights the examples in each (group, label) combination differently to ensure fairness before classification."
      ]
    },
    {
      "cell_type": "code",
      "metadata": {
        "id": "WS3EIoV1GZT-"
      },
      "source": [
        "RW = Reweighing(unprivileged_groups=unprivileged_groups,\n",
        "               privileged_groups=privileged_groups)\n",
        "RW.fit(aif360_train)\n",
        "transf_dataset = RW.transform(aif360_train)"
      ],
      "execution_count": 32,
      "outputs": []
    },
    {
      "cell_type": "code",
      "metadata": {
        "id": "F_jc2H9zGZT-",
        "colab": {
          "base_uri": "https://localhost:8080/"
        },
        "outputId": "5847e25b-8d60-43da-8499-9e949f4b91bf"
      },
      "source": [
        "# Metric for the original dataset\n",
        "metric_transf_train = BinaryLabelDatasetMetric(transf_dataset, \n",
        "                                             unprivileged_groups=unprivileged_groups,\n",
        "                                             privileged_groups=privileged_groups)\n",
        "print('Modified training dataset')\n",
        "print(\"Difference in mean outcomes between unprivileged and privileged groups = %f\" % metric_transf_train.statistical_parity_difference())"
      ],
      "execution_count": 33,
      "outputs": [
        {
          "output_type": "stream",
          "text": [
            "Modified training dataset\n",
            "Difference in mean outcomes between unprivileged and privileged groups = 0.000000\n"
          ],
          "name": "stdout"
        }
      ]
    },
    {
      "cell_type": "markdown",
      "metadata": {
        "id": "vJP_ye_PGZT-"
      },
      "source": [
        "#### Model Development"
      ]
    },
    {
      "cell_type": "code",
      "metadata": {
        "colab": {
          "base_uri": "https://localhost:8080/"
        },
        "id": "OQaoQL_NrNrF",
        "outputId": "4e1bfe33-7265-4c9f-c3fc-7e9ae1443ede"
      },
      "source": [
        "transf_dataset.features"
      ],
      "execution_count": 34,
      "outputs": [
        {
          "output_type": "execute_result",
          "data": {
            "text/plain": [
              "array([[0.00000e+00, 1.00000e+00, 0.00000e+00, ..., 2.41000e+01,\n",
              "        1.73465e+03, 1.00000e+00],\n",
              "       [0.00000e+00, 1.00000e+00, 0.00000e+00, ..., 8.81500e+01,\n",
              "        3.97320e+03, 0.00000e+00],\n",
              "       [0.00000e+00, 1.00000e+00, 0.00000e+00, ..., 7.49500e+01,\n",
              "        2.86985e+03, 0.00000e+00],\n",
              "       ...,\n",
              "       [0.00000e+00, 1.00000e+00, 0.00000e+00, ..., 9.51500e+01,\n",
              "        1.77995e+03, 1.00000e+00],\n",
              "       [0.00000e+00, 1.00000e+00, 0.00000e+00, ..., 2.46000e+01,\n",
              "        1.26640e+03, 1.00000e+00],\n",
              "       [0.00000e+00, 1.00000e+00, 0.00000e+00, ..., 8.46000e+01,\n",
              "        1.11520e+03, 0.00000e+00]])"
            ]
          },
          "metadata": {
            "tags": []
          },
          "execution_count": 34
        }
      ]
    },
    {
      "cell_type": "code",
      "metadata": {
        "colab": {
          "base_uri": "https://localhost:8080/"
        },
        "id": "TSsIb5CErSst",
        "outputId": "6710ccc6-8c2c-44a6-ff2c-139f226e5aad"
      },
      "source": [
        "transf_dataset.labels"
      ],
      "execution_count": 35,
      "outputs": [
        {
          "output_type": "execute_result",
          "data": {
            "text/plain": [
              "array([[0.],\n",
              "       [0.],\n",
              "       [1.],\n",
              "       ...,\n",
              "       [1.],\n",
              "       [0.],\n",
              "       [1.]])"
            ]
          },
          "metadata": {
            "tags": []
          },
          "execution_count": 35
        }
      ]
    },
    {
      "cell_type": "code",
      "metadata": {
        "colab": {
          "base_uri": "https://localhost:8080/"
        },
        "id": "YH_c21DIrVE1",
        "outputId": "977d2d7f-3bed-4133-e18a-8b8e2ea5536d"
      },
      "source": [
        "transf_dataset.instance_weights"
      ],
      "execution_count": 36,
      "outputs": [
        {
          "output_type": "execute_result",
          "data": {
            "text/plain": [
              "array([0.99685649, 1.0032184 , 0.99140811, ..., 1.00859189, 0.99685649,\n",
              "       0.99140811])"
            ]
          },
          "metadata": {
            "tags": []
          },
          "execution_count": 36
        }
      ]
    },
    {
      "cell_type": "code",
      "metadata": {
        "id": "NUKOQ6paGZT-",
        "outputId": "9f8f854b-d4be-4cb9-daca-2574e458340e"
      },
      "source": [
        "#n_estimators is the maximum number of estimators at which the boosting is terminated. Default is 50 and this can be tuned as well.\n",
        "cls = AdaBoostClassifier(n_estimators=100)\n",
        "cls.fit(transf_dataset.features, transf_dataset.labels,sample_weight=transf_dataset.instance_weights)"
      ],
      "execution_count": null,
      "outputs": [
        {
          "output_type": "execute_result",
          "data": {
            "text/plain": [
              "AdaBoostClassifier(algorithm='SAMME.R', base_estimator=None, learning_rate=1.0,\n",
              "                   n_estimators=100, random_state=None)"
            ]
          },
          "metadata": {
            "tags": []
          },
          "execution_count": 29
        }
      ]
    },
    {
      "cell_type": "code",
      "metadata": {
        "id": "SWwAVcP0GZT_",
        "colab": {
          "base_uri": "https://localhost:8080/"
        },
        "outputId": "a6862966-fd19-4f63-b0d9-0826516ff856"
      },
      "source": [
        "print(\"Accuracy:\", metrics.accuracy_score(aif360_test.labels, cls.predict(aif360_test.features)))"
      ],
      "execution_count": 37,
      "outputs": [
        {
          "output_type": "stream",
          "text": [
            "Accuracy: 0.7989977728285078\n"
          ],
          "name": "stdout"
        }
      ]
    },
    {
      "cell_type": "code",
      "metadata": {
        "id": "kZADp1PjGZT_"
      },
      "source": [
        ""
      ],
      "execution_count": null,
      "outputs": []
    }
  ]
}